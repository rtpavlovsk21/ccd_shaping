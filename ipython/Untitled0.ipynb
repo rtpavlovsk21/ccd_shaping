{
 "metadata": {
  "name": ""
 },
 "nbformat": 3,
 "nbformat_minor": 0,
 "worksheets": [
  {
   "cells": [
    {
     "cell_type": "code",
     "collapsed": false,
     "input": [
      "import numpy as np;\n",
      "import h5py;\n",
      "import cv2;\n",
      "import matplotlib.pyplot as plt;\n",
      "from ROOT import TH1D;\n",
      "import sys;\n",
      "sys.path.append('/home/alyksia/pyutils/ryutils/');\n",
      "import low_level_ccd_proc as llcp;\n",
      "%matplotlib inline\n",
      "\n",
      "hdf_fil=h5py.File('../data/ccd_images_med_sub.h5','r');\n",
      "step=59*80;\n",
      "images=hdf_fil['ba133'][:,:,:step];"
     ],
     "language": "python",
     "metadata": {},
     "outputs": [],
     "prompt_number": "*"
    },
    {
     "cell_type": "code",
     "collapsed": false,
     "input": [
      "#make pixel histogram\n",
      "ax=llcp.histogram(images.ravel(),title='Pixel Histogram, %s Images w/Preproc'%images.shape[2]);\n",
      "\n",
      "#plotting fit with it\n",
      "fopt=llcp.gfit(images.ravel());\n",
      "k=np.arange(-200,200,1);\n",
      "plt.plot(k,llcp.gaus1d(k,*fopt));\n",
      "\n",
      "plt.xlim([-500,500]);\n"
     ],
     "language": "python",
     "metadata": {},
     "outputs": [],
     "prompt_number": "*"
    },
    {
     "cell_type": "code",
     "collapsed": false,
     "input": [
      "#make pixel histogram\n",
      "ax=llcp.histogram(images.ravel(),title='Pixel Histogram, %s Images w/Preproc'%images.shape[2]);\n",
      "\n",
      "plt.xlim([-1000,2**16]);"
     ],
     "language": "python",
     "metadata": {},
     "outputs": [],
     "prompt_number": "*"
    },
    {
     "cell_type": "code",
     "collapsed": false,
     "input": [],
     "language": "python",
     "metadata": {},
     "outputs": [],
     "prompt_number": "*"
    }
   ],
   "metadata": {}
  }
 ]
}